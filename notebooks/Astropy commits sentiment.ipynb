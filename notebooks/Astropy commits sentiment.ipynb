{
 "cells": [
  {
   "cell_type": "code",
   "execution_count": null,
   "metadata": {
    "collapsed": true
   },
   "outputs": [],
   "source": [
    "from datetime import datetime\n",
    "from nltk.tokenize import TweetTokenizer\n",
    "from nltk.sentiment.vader import SentimentIntensityAnalyzer\n",
    "import pandas as pd\n",
    "from astropy.table import Table\n",
    "from astropy.time import Time\n",
    "import numpy as np\n",
    "import matplotlib.pyplot as plt\n",
    "plt.style.use('apw-notebook')\n",
    "%matplotlib inline\n",
    "\n",
    "from scipy.stats import binned_statistic\n",
    "\n",
    "import calendar\n",
    "month_map = dict((v,k) for k,v in enumerate(calendar.month_abbr))"
   ]
  },
  {
   "cell_type": "code",
   "execution_count": null,
   "metadata": {
    "collapsed": true
   },
   "outputs": [],
   "source": [
    "df = pd.read_csv('../data/astropy_commits.csv')"
   ]
  },
  {
   "cell_type": "code",
   "execution_count": null,
   "metadata": {
    "scrolled": true
   },
   "outputs": [],
   "source": [
    "df['name'].value_counts()[:16]"
   ]
  },
  {
   "cell_type": "code",
   "execution_count": null,
   "metadata": {
    "collapsed": true
   },
   "outputs": [],
   "source": [
    "sid = SentimentIntensityAnalyzer()\n",
    "tkn = TweetTokenizer()"
   ]
  },
  {
   "cell_type": "code",
   "execution_count": null,
   "metadata": {},
   "outputs": [],
   "source": [
    "polarities = []\n",
    "for index, row in rows.iterrows():\n",
    "    msg = str(row['message'])\n",
    "    sentence = \" \".join(tkn.tokenize(msg))\n",
    "    \n",
    "    ss = sid.polarity_scores(msg)\n",
    "    \n",
    "    # parse date\n",
    "    month_name, day, hms, year, *_ = row['date'].split()\n",
    "    hms = list(map(int, hms.split(':')))\n",
    "    ss['hour'] = np.sum(np.array([1., 1/60., 1/3600]) * np.array(hms))\n",
    "    ss['time'] = Time(datetime(int(year), month_map[month_name], int(day), hms[0], hms[1], hms[2]))\n",
    "    polarities.append(ss)\n",
    "    \n",
    "all_polarities = Table(polarities)\n",
    "all_polarities['time'] = Time(all_polarities['time'])"
   ]
  },
  {
   "cell_type": "code",
   "execution_count": null,
   "metadata": {},
   "outputs": [],
   "source": [
    "def make_plots(idx=None, title=\"\", statistic='mean'):\n",
    "    if idx is not None:\n",
    "        polarities = all_polarities[idx]\n",
    "    else:\n",
    "        polarities = all_polarities\n",
    "        \n",
    "    pos_color = '#2b8cbe'\n",
    "    neg_color = '#de2d26'\n",
    "    figsize = (12, 5)\n",
    "    \n",
    "    # --------------------------------------\n",
    "    # binned by hour of the day (local time)\n",
    "    bins = np.arange(0, 24+1, 1)\n",
    "    bin_ctr = (bins[:-1] + bins[1:]) / 2.\n",
    "\n",
    "    pos_res = binned_statistic(polarities['hour'], polarities['pos'], \n",
    "                               bins=bins, statistic=statistic)\n",
    "    neg_res = binned_statistic(polarities['hour'], polarities['neg'], \n",
    "                               bins=bins, statistic=statistic)\n",
    "    \n",
    "    fig, ax = plt.subplots(1, 1, figsize=figsize)\n",
    "    \n",
    "    ax.plot(bin_ctr, pos_res.statistic, label='positive',\n",
    "             marker='None', drawstyle='steps-mid', color=pos_color)\n",
    "    ax.plot(bin_ctr, neg_res.statistic, label='negative',\n",
    "             marker='None', drawstyle='steps-mid', color=neg_color)\n",
    "    ax.legend(loc='best', fontsize=18)\n",
    "\n",
    "    ax.set_xlabel('time [hour]')\n",
    "    ax.set_xlim(6, 20)\n",
    "    ax.set_title(title)\n",
    "    \n",
    "    # -----------------------------\n",
    "    # binned by absolute time\n",
    "    month_bins = np.arange(polarities['time'].mjd.min(), polarities['time'].mjd.max()+1, 30)\n",
    "    month_bin_ctr = (month_bins[:-1] + month_bins[1:]) / 2.\n",
    "\n",
    "    month_pos_res = binned_statistic(polarities['time'].mjd, polarities['pos'], \n",
    "                                     bins=month_bins, statistic=statistic)\n",
    "    month_neg_res = binned_statistic(polarities['time'].mjd, polarities['neg'], \n",
    "                                     bins=month_bins, statistic=statistic)\n",
    "    \n",
    "    fig, ax = plt.subplots(1, 1, figsize=figsize)\n",
    "\n",
    "    ax.plot(month_bin_ctr, month_pos_res.statistic, label='positive',\n",
    "             marker='None', drawstyle='steps-mid', color=pos_color)\n",
    "    ax.plot(month_bin_ctr, month_neg_res.statistic, label='negative',\n",
    "             marker='None', drawstyle='steps-mid', color=neg_color)\n",
    "\n",
    "    ax.set_title(title)\n",
    "    ax.set_xlabel('MJD')\n",
    "    ax.legend(loc='best', fontsize=18)"
   ]
  },
  {
   "cell_type": "code",
   "execution_count": null,
   "metadata": {},
   "outputs": [],
   "source": [
    "make_plots(title='All Astropy')"
   ]
  },
  {
   "cell_type": "code",
   "execution_count": null,
   "metadata": {
    "scrolled": false
   },
   "outputs": [],
   "source": [
    "for name in ['Thomas Robitaille', 'Adrian Price-Whelan', 'Brigitta Sipocz']:\n",
    "    make_plots(idx=np.array(df['name'] == name), title=name)"
   ]
  },
  {
   "cell_type": "code",
   "execution_count": null,
   "metadata": {},
   "outputs": [],
   "source": [
    "name = 'Erik Tollerud'\n",
    "make_plots(idx=np.array(df['name'] == name), title=name)\n",
    "plt.axvline(Time(datetime(2017, 4, 18)).mjd)"
   ]
  },
  {
   "cell_type": "code",
   "execution_count": null,
   "metadata": {
    "collapsed": true
   },
   "outputs": [],
   "source": []
  }
 ],
 "metadata": {
  "kernelspec": {
   "display_name": "Python [default]",
   "language": "python",
   "name": "python3"
  },
  "language_info": {
   "codemirror_mode": {
    "name": "ipython",
    "version": 3
   },
   "file_extension": ".py",
   "mimetype": "text/x-python",
   "name": "python",
   "nbconvert_exporter": "python",
   "pygments_lexer": "ipython3",
   "version": "3.5.2"
  }
 },
 "nbformat": 4,
 "nbformat_minor": 2
}